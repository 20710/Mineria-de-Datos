{
 "cells": [
  {
   "cell_type": "code",
   "execution_count": 1,
   "metadata": {},
   "outputs": [],
   "source": [
    "import nltk"
   ]
  },
  {
   "cell_type": "code",
   "execution_count": 2,
   "metadata": {},
   "outputs": [
    {
     "name": "stderr",
     "output_type": "stream",
     "text": [
      "[nltk_data] Downloading package stopwords to\n",
      "[nltk_data]     /Users/angelgabrieltovargarcia/nltk_data...\n",
      "[nltk_data]   Unzipping corpora/stopwords.zip.\n"
     ]
    },
    {
     "data": {
      "text/plain": [
       "True"
      ]
     },
     "execution_count": 2,
     "metadata": {},
     "output_type": "execute_result"
    }
   ],
   "source": [
    "nltk.download(\"stopwords\")"
   ]
  },
  {
   "cell_type": "code",
   "execution_count": 3,
   "metadata": {},
   "outputs": [],
   "source": [
    "import nltk\n",
    "from nltk.corpus import stopwords\n",
    "from nltk.tokenize import word_tokenize \n",
    "from nltk.tokenize import RegexpTokenizer\n",
    "import numpy as np    \n",
    "from numpy import dot\n",
    "from numpy.linalg import norm"
   ]
  },
  {
   "cell_type": "code",
   "execution_count": 4,
   "metadata": {},
   "outputs": [
    {
     "data": {
      "text/plain": [
       "['arabic',\n",
       " 'azerbaijani',\n",
       " 'danish',\n",
       " 'dutch',\n",
       " 'english',\n",
       " 'finnish',\n",
       " 'french',\n",
       " 'german',\n",
       " 'greek',\n",
       " 'hungarian',\n",
       " 'indonesian',\n",
       " 'italian',\n",
       " 'kazakh',\n",
       " 'nepali',\n",
       " 'norwegian',\n",
       " 'portuguese',\n",
       " 'romanian',\n",
       " 'russian',\n",
       " 'slovene',\n",
       " 'spanish',\n",
       " 'swedish',\n",
       " 'tajik',\n",
       " 'turkish']"
      ]
     },
     "execution_count": 4,
     "metadata": {},
     "output_type": "execute_result"
    }
   ],
   "source": [
    "stopwords.fileids()"
   ]
  },
  {
   "cell_type": "code",
   "execution_count": 5,
   "metadata": {},
   "outputs": [
    {
     "data": {
      "text/plain": [
       "{'a',\n",
       " 'al',\n",
       " 'algo',\n",
       " 'algunas',\n",
       " 'algunos',\n",
       " 'ante',\n",
       " 'antes',\n",
       " 'como',\n",
       " 'con',\n",
       " 'contra',\n",
       " 'cual',\n",
       " 'cuando',\n",
       " 'de',\n",
       " 'del',\n",
       " 'desde',\n",
       " 'donde',\n",
       " 'durante',\n",
       " 'e',\n",
       " 'el',\n",
       " 'ella',\n",
       " 'ellas',\n",
       " 'ellos',\n",
       " 'en',\n",
       " 'entre',\n",
       " 'era',\n",
       " 'erais',\n",
       " 'eran',\n",
       " 'eras',\n",
       " 'eres',\n",
       " 'es',\n",
       " 'esa',\n",
       " 'esas',\n",
       " 'ese',\n",
       " 'eso',\n",
       " 'esos',\n",
       " 'esta',\n",
       " 'estaba',\n",
       " 'estabais',\n",
       " 'estaban',\n",
       " 'estabas',\n",
       " 'estad',\n",
       " 'estada',\n",
       " 'estadas',\n",
       " 'estado',\n",
       " 'estados',\n",
       " 'estamos',\n",
       " 'estando',\n",
       " 'estar',\n",
       " 'estaremos',\n",
       " 'estará',\n",
       " 'estarán',\n",
       " 'estarás',\n",
       " 'estaré',\n",
       " 'estaréis',\n",
       " 'estaría',\n",
       " 'estaríais',\n",
       " 'estaríamos',\n",
       " 'estarían',\n",
       " 'estarías',\n",
       " 'estas',\n",
       " 'este',\n",
       " 'estemos',\n",
       " 'esto',\n",
       " 'estos',\n",
       " 'estoy',\n",
       " 'estuve',\n",
       " 'estuviera',\n",
       " 'estuvierais',\n",
       " 'estuvieran',\n",
       " 'estuvieras',\n",
       " 'estuvieron',\n",
       " 'estuviese',\n",
       " 'estuvieseis',\n",
       " 'estuviesen',\n",
       " 'estuvieses',\n",
       " 'estuvimos',\n",
       " 'estuviste',\n",
       " 'estuvisteis',\n",
       " 'estuviéramos',\n",
       " 'estuviésemos',\n",
       " 'estuvo',\n",
       " 'está',\n",
       " 'estábamos',\n",
       " 'estáis',\n",
       " 'están',\n",
       " 'estás',\n",
       " 'esté',\n",
       " 'estéis',\n",
       " 'estén',\n",
       " 'estés',\n",
       " 'fue',\n",
       " 'fuera',\n",
       " 'fuerais',\n",
       " 'fueran',\n",
       " 'fueras',\n",
       " 'fueron',\n",
       " 'fuese',\n",
       " 'fueseis',\n",
       " 'fuesen',\n",
       " 'fueses',\n",
       " 'fui',\n",
       " 'fuimos',\n",
       " 'fuiste',\n",
       " 'fuisteis',\n",
       " 'fuéramos',\n",
       " 'fuésemos',\n",
       " 'ha',\n",
       " 'habida',\n",
       " 'habidas',\n",
       " 'habido',\n",
       " 'habidos',\n",
       " 'habiendo',\n",
       " 'habremos',\n",
       " 'habrá',\n",
       " 'habrán',\n",
       " 'habrás',\n",
       " 'habré',\n",
       " 'habréis',\n",
       " 'habría',\n",
       " 'habríais',\n",
       " 'habríamos',\n",
       " 'habrían',\n",
       " 'habrías',\n",
       " 'habéis',\n",
       " 'había',\n",
       " 'habíais',\n",
       " 'habíamos',\n",
       " 'habían',\n",
       " 'habías',\n",
       " 'han',\n",
       " 'has',\n",
       " 'hasta',\n",
       " 'hay',\n",
       " 'haya',\n",
       " 'hayamos',\n",
       " 'hayan',\n",
       " 'hayas',\n",
       " 'hayáis',\n",
       " 'he',\n",
       " 'hemos',\n",
       " 'hube',\n",
       " 'hubiera',\n",
       " 'hubierais',\n",
       " 'hubieran',\n",
       " 'hubieras',\n",
       " 'hubieron',\n",
       " 'hubiese',\n",
       " 'hubieseis',\n",
       " 'hubiesen',\n",
       " 'hubieses',\n",
       " 'hubimos',\n",
       " 'hubiste',\n",
       " 'hubisteis',\n",
       " 'hubiéramos',\n",
       " 'hubiésemos',\n",
       " 'hubo',\n",
       " 'la',\n",
       " 'las',\n",
       " 'le',\n",
       " 'les',\n",
       " 'lo',\n",
       " 'los',\n",
       " 'me',\n",
       " 'mi',\n",
       " 'mis',\n",
       " 'mucho',\n",
       " 'muchos',\n",
       " 'muy',\n",
       " 'más',\n",
       " 'mí',\n",
       " 'mía',\n",
       " 'mías',\n",
       " 'mío',\n",
       " 'míos',\n",
       " 'nada',\n",
       " 'ni',\n",
       " 'no',\n",
       " 'nos',\n",
       " 'nosotras',\n",
       " 'nosotros',\n",
       " 'nuestra',\n",
       " 'nuestras',\n",
       " 'nuestro',\n",
       " 'nuestros',\n",
       " 'o',\n",
       " 'os',\n",
       " 'otra',\n",
       " 'otras',\n",
       " 'otro',\n",
       " 'otros',\n",
       " 'para',\n",
       " 'pero',\n",
       " 'poco',\n",
       " 'por',\n",
       " 'porque',\n",
       " 'que',\n",
       " 'quien',\n",
       " 'quienes',\n",
       " 'qué',\n",
       " 'se',\n",
       " 'sea',\n",
       " 'seamos',\n",
       " 'sean',\n",
       " 'seas',\n",
       " 'sentid',\n",
       " 'sentida',\n",
       " 'sentidas',\n",
       " 'sentido',\n",
       " 'sentidos',\n",
       " 'seremos',\n",
       " 'será',\n",
       " 'serán',\n",
       " 'serás',\n",
       " 'seré',\n",
       " 'seréis',\n",
       " 'sería',\n",
       " 'seríais',\n",
       " 'seríamos',\n",
       " 'serían',\n",
       " 'serías',\n",
       " 'seáis',\n",
       " 'siente',\n",
       " 'sin',\n",
       " 'sintiendo',\n",
       " 'sobre',\n",
       " 'sois',\n",
       " 'somos',\n",
       " 'son',\n",
       " 'soy',\n",
       " 'su',\n",
       " 'sus',\n",
       " 'suya',\n",
       " 'suyas',\n",
       " 'suyo',\n",
       " 'suyos',\n",
       " 'sí',\n",
       " 'también',\n",
       " 'tanto',\n",
       " 'te',\n",
       " 'tendremos',\n",
       " 'tendrá',\n",
       " 'tendrán',\n",
       " 'tendrás',\n",
       " 'tendré',\n",
       " 'tendréis',\n",
       " 'tendría',\n",
       " 'tendríais',\n",
       " 'tendríamos',\n",
       " 'tendrían',\n",
       " 'tendrías',\n",
       " 'tened',\n",
       " 'tenemos',\n",
       " 'tenga',\n",
       " 'tengamos',\n",
       " 'tengan',\n",
       " 'tengas',\n",
       " 'tengo',\n",
       " 'tengáis',\n",
       " 'tenida',\n",
       " 'tenidas',\n",
       " 'tenido',\n",
       " 'tenidos',\n",
       " 'teniendo',\n",
       " 'tenéis',\n",
       " 'tenía',\n",
       " 'teníais',\n",
       " 'teníamos',\n",
       " 'tenían',\n",
       " 'tenías',\n",
       " 'ti',\n",
       " 'tiene',\n",
       " 'tienen',\n",
       " 'tienes',\n",
       " 'todo',\n",
       " 'todos',\n",
       " 'tu',\n",
       " 'tus',\n",
       " 'tuve',\n",
       " 'tuviera',\n",
       " 'tuvierais',\n",
       " 'tuvieran',\n",
       " 'tuvieras',\n",
       " 'tuvieron',\n",
       " 'tuviese',\n",
       " 'tuvieseis',\n",
       " 'tuviesen',\n",
       " 'tuvieses',\n",
       " 'tuvimos',\n",
       " 'tuviste',\n",
       " 'tuvisteis',\n",
       " 'tuviéramos',\n",
       " 'tuviésemos',\n",
       " 'tuvo',\n",
       " 'tuya',\n",
       " 'tuyas',\n",
       " 'tuyo',\n",
       " 'tuyos',\n",
       " 'tú',\n",
       " 'un',\n",
       " 'una',\n",
       " 'uno',\n",
       " 'unos',\n",
       " 'vosotras',\n",
       " 'vosotros',\n",
       " 'vuestra',\n",
       " 'vuestras',\n",
       " 'vuestro',\n",
       " 'vuestros',\n",
       " 'y',\n",
       " 'ya',\n",
       " 'yo',\n",
       " 'él',\n",
       " 'éramos'}"
      ]
     },
     "execution_count": 5,
     "metadata": {},
     "output_type": "execute_result"
    }
   ],
   "source": [
    "set(stopwords.words('spanish'))"
   ]
  },
  {
   "cell_type": "code",
   "execution_count": 6,
   "metadata": {},
   "outputs": [],
   "source": [
    "tokenizer = RegexpTokenizer(r'\\w+')"
   ]
  },
  {
   "cell_type": "code",
   "execution_count": 7,
   "metadata": {},
   "outputs": [],
   "source": [
    "#Experimiento Tweet 1\n",
    "texto_01 = \"Si Bimbo pretende seguir oponiéndose al Etiquetado Claro, una medida que puede salvar y mejorar la vida de miles de niños frente a la obesidad y la diabetes, quizá deberíamos plantearnos sacarlos de nuestra cotidianidad.\""
   ]
  },
  {
   "cell_type": "code",
   "execution_count": 8,
   "metadata": {},
   "outputs": [
    {
     "name": "stdout",
     "output_type": "stream",
     "text": [
      "Si Bimbo pretende seguir oponiéndose al Etiquetado Claro, una medida que puede salvar y mejorar la vida de miles de niños frente a la obesidad y la diabetes, quizá deberíamos plantearnos sacarlos de nuestra cotidianidad.\n"
     ]
    }
   ],
   "source": [
    "print(texto_01)"
   ]
  },
  {
   "cell_type": "code",
   "execution_count": 9,
   "metadata": {},
   "outputs": [],
   "source": [
    "texto_02 = \"No hay constancia de que poner ese etiquetado salve miles de vidas. Si no disminuyó el consumo de comida chatarra el IEPS que metieron precisamente como fin de inhibir el consumo, o las imágenes gráficas en las cajetillas, difícilmente un etiquetado hará la diferencia\"\n",
    "\n",
    "texto_03 = \"Pregunta sería. ¿Por que insisten en invitar a Ijustine a los eventos de Samsung si TODOS sabemos que es una Apple fan boy? En serio se ve muy falsa fingiendo interés.\"\n",
    "\n",
    "texto_04 = \"para celebrar San Valentin les voy a contar la historia de cuando tuve un novio húngaro y un día sin querer, en una reunión familiar, casi mato a su abuelita con Tajín... AGÁRRENSE\"\n",
    "\n",
    "texto_05 = \"Y pregunto porque se estuvieron llenando el hocico sus fans de que iba a sacar su propia línea de maquillaje y no sé qué más mierdas.\""
   ]
  },
  {
   "cell_type": "code",
   "execution_count": 10,
   "metadata": {},
   "outputs": [
    {
     "name": "stdout",
     "output_type": "stream",
     "text": [
      "No hay constancia de que poner ese etiquetado salve miles de vidas. Si no disminuyó el consumo de comida chatarra el IEPS que metieron precisamente como fin de inhibir el consumo, o las imágenes gráficas en las cajetillas, difícilmente un etiquetado hará la diferencia Pregunta sería. ¿Por que insisten en invitar a Ijustine a los eventos de Samsung si TODOS sabemos que es una Apple fan boy? En serio se ve muy falsa fingiendo interés. para celebrar San Valentin les voy a contar la historia de cuando tuve un novio húngaro y un día sin querer, en una reunión familiar, casi mato a su abuelita con Tajín... AGÁRRENSE Y pregunto porque se estuvieron llenando el hocico sus fans de que iba a sacar su propia línea de maquillaje y no sé qué más mierdas.\n"
     ]
    }
   ],
   "source": [
    "print(texto_02,texto_03, texto_04, texto_05)"
   ]
  },
  {
   "cell_type": "code",
   "execution_count": 11,
   "metadata": {},
   "outputs": [],
   "source": [
    "#Tokenizar\n",
    "#Se utiliza la funcion para quitar los signos de puntuacion.\n",
    "#texto numero 01\n",
    "texto_01_token = tokenizer.tokenize(texto_01.lower())"
   ]
  },
  {
   "cell_type": "code",
   "execution_count": 12,
   "metadata": {},
   "outputs": [
    {
     "name": "stdout",
     "output_type": "stream",
     "text": [
      "['si', 'bimbo', 'pretende', 'seguir', 'oponie', 'ndose', 'al', 'etiquetado', 'claro', 'una', 'medida', 'que', 'puede', 'salvar', 'y', 'mejorar', 'la', 'vida', 'de', 'miles', 'de', 'nin', 'os', 'frente', 'a', 'la', 'obesidad', 'y', 'la', 'diabetes', 'quiza', 'deberi', 'amos', 'plantearnos', 'sacarlos', 'de', 'nuestra', 'cotidianidad']\n"
     ]
    }
   ],
   "source": [
    "print(texto_01_token)"
   ]
  },
  {
   "cell_type": "code",
   "execution_count": 33,
   "metadata": {},
   "outputs": [
    {
     "name": "stdout",
     "output_type": "stream",
     "text": [
      "[]\n"
     ]
    }
   ],
   "source": [
    "texto_01_token_wout_stopwords = []\n",
    "print(texto_01_token_wout_stopwords)"
   ]
  },
  {
   "cell_type": "code",
   "execution_count": 34,
   "metadata": {},
   "outputs": [
    {
     "name": "stdout",
     "output_type": "stream",
     "text": [
      "['si', 'bimbo', 'pretende', 'seguir', 'oponie', 'ndose', 'etiquetado', 'claro', 'medida', 'puede', 'salvar', 'mejorar', 'vida', 'miles', 'nin', 'frente', 'obesidad', 'diabetes', 'quiza', 'deberi', 'amos', 'plantearnos', 'sacarlos', 'cotidianidad']\n"
     ]
    }
   ],
   "source": [
    "for word in texto_01_token:\n",
    "    if word not in stopwords.words('spanish'): texto_01_token_wout_stopwords.append(word)\n",
    "\n",
    "print(texto_01_token_wout_stopwords)"
   ]
  },
  {
   "cell_type": "code",
   "execution_count": 35,
   "metadata": {},
   "outputs": [
    {
     "name": "stdout",
     "output_type": "stream",
     "text": [
      "['constancia', 'poner', 'etiquetado', 'salve', 'miles', 'vidas', 'si', 'disminuyo', 'consumo', 'comida', 'chatarra', 'ieps', 'metieron', 'precisamente', 'fin', 'inhibir', 'consumo', 'ima', 'genes', 'gra', 'ficas', 'cajetillas', 'difi', 'cilmente', 'etiquetado', 'hara', 'diferencia']\n"
     ]
    }
   ],
   "source": [
    "#Texto numero 02\n",
    "texto_02_token = tokenizer.tokenize(texto_02.lower())\n",
    "\n",
    "texto_02_token_wout_stopwords = []\n",
    "\n",
    "for word in texto_02_token:\n",
    "    if word not in stopwords.words('spanish'): texto_02_token_wout_stopwords.append(word)\n",
    "        \n",
    "print(texto_02_token_wout_stopwords)"
   ]
  },
  {
   "cell_type": "code",
   "execution_count": 36,
   "metadata": {},
   "outputs": [
    {
     "name": "stdout",
     "output_type": "stream",
     "text": [
      "['pregunta', 'seri', 'insisten', 'invitar', 'ijustine', 'eventos', 'samsung', 'si', 'sabemos', 'apple', 'fan', 'boy', 'serio', 've', 'falsa', 'fingiendo', 'intere', 's']\n"
     ]
    }
   ],
   "source": [
    "#Texto numero 03\n",
    "texto_03_token = tokenizer.tokenize(texto_03.lower())\n",
    "\n",
    "texto_03_token_wout_stopwords = []\n",
    "\n",
    "for word in texto_03_token:\n",
    "    if word not in stopwords.words('spanish'): texto_03_token_wout_stopwords.append(word)\n",
    "\n",
    "print(texto_03_token_wout_stopwords)"
   ]
  },
  {
   "cell_type": "code",
   "execution_count": 38,
   "metadata": {},
   "outputs": [
    {
     "name": "stdout",
     "output_type": "stream",
     "text": [
      "['celebrar', 'san', 'valentin', 'voy', 'contar', 'historia', 'novio', 'hu', 'ngaro', 'di', 'querer', 'reunio', 'n', 'familiar', 'casi', 'mato', 'abuelita', 'taji', 'n', 'aga', 'rrense']\n"
     ]
    }
   ],
   "source": [
    "#Texto numero 04\n",
    "texto_04_token = tokenizer.tokenize(texto_04.lower())\n",
    "\n",
    "texto_04_token_wout_stopwords = []\n",
    "\n",
    "for  word in texto_04_token:\n",
    "    if word not in stopwords.words('spanish'): texto_04_token_wout_stopwords.append(word)\n",
    "        \n",
    "print(texto_04_token_wout_stopwords)"
   ]
  },
  {
   "cell_type": "code",
   "execution_count": 39,
   "metadata": {},
   "outputs": [
    {
     "name": "stdout",
     "output_type": "stream",
     "text": [
      "['celebrar', 'san', 'valentin', 'voy', 'contar', 'historia', 'novio', 'hu', 'ngaro', 'di', 'querer', 'reunio', 'n', 'familiar', 'casi', 'mato', 'abuelita', 'taji', 'n', 'aga', 'rrense']\n"
     ]
    }
   ],
   "source": [
    "#Texto numero 05\n",
    "texto_05_token = tokenizer.tokenize(texto_04.lower())\n",
    "\n",
    "texto_05_token_wout_stopwords = []\n",
    "\n",
    "for word in texto_05_token:\n",
    "    if word not in stopwords.words('spanish'): texto_05_token_wout_stopwords.append(word)\n",
    "        \n",
    "print(texto_05_token_wout_stopwords)"
   ]
  },
  {
   "cell_type": "code",
   "execution_count": 41,
   "metadata": {},
   "outputs": [
    {
     "name": "stdout",
     "output_type": "stream",
     "text": [
      "24\n",
      "27\n",
      "18\n",
      "21\n",
      "21\n",
      "111\n"
     ]
    }
   ],
   "source": [
    "print(len(texto_01_token_wout_stopwords))\n",
    "print(len(texto_02_token_wout_stopwords))\n",
    "print(len(texto_03_token_wout_stopwords))\n",
    "print(len(texto_04_token_wout_stopwords))\n",
    "print(len(texto_05_token_wout_stopwords))\n",
    "print(len(texto_01_token_wout_stopwords)+len(texto_02_token_wout_stopwords)+len(texto_03_token_wout_stopwords)+len(texto_04_token_wout_stopwords)+len(texto_05_token_wout_stopwords))\n",
    "\n"
   ]
  },
  {
   "cell_type": "code",
   "execution_count": null,
   "metadata": {},
   "outputs": [],
   "source": [
    "#Creacion de la BoW\n",
    "\n",
    "diccionario_termn = {}"
   ]
  }
 ],
 "metadata": {
  "kernelspec": {
   "display_name": "Python 3",
   "language": "python",
   "name": "python3"
  },
  "language_info": {
   "codemirror_mode": {
    "name": "ipython",
    "version": 3
   },
   "file_extension": ".py",
   "mimetype": "text/x-python",
   "name": "python",
   "nbconvert_exporter": "python",
   "pygments_lexer": "ipython3",
   "version": "3.7.4"
  }
 },
 "nbformat": 4,
 "nbformat_minor": 2
}
